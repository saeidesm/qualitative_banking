{
 "cells": [
  {
   "cell_type": "markdown",
   "id": "16a1c74f",
   "metadata": {},
   "source": [
    "**Importing Libraries**"
   ]
  },
  {
   "cell_type": "code",
   "execution_count": 1,
   "id": "a65c6b04",
   "metadata": {},
   "outputs": [],
   "source": [
    "#importing libraries in python\n",
    "import numpy as np\n",
    "import pandas as pd\n",
    "import matplotlib.pyplot as plt\n",
    "%matplotlib inline\n",
    "import seaborn as sns\n",
    "import warnings\n",
    "warnings.filterwarnings('ignore')\n",
    "from sklearn.preprocessing import LabelEncoder\n",
    "from sklearn.preprocessing import MinMaxScaler\n",
    "from sklearn.model_selection import train_test_split, KFold, GridSearchCV\n",
    "from sklearn.linear_model import LogisticRegression\n",
    "from sklearn.preprocessing import LabelEncoder\n",
    "from sklearn.metrics import accuracy_score\n",
    "from sklearn.metrics import classification_report, confusion_matrix\n",
    "from sklearn.model_selection import cross_val_score\n",
    "from sklearn.metrics import  f1_score, precision_score,recall_score, roc_auc_score\n",
    "from sklearn.ensemble import RandomForestClassifier,AdaBoostClassifier\n",
    "from sklearn.svm import SVC \n",
    "from sklearn.neighbors import KNeighborsClassifier\n",
    "from sklearn.tree import DecisionTreeClassifier\n",
    "from sklearn.neural_network import MLPClassifier\n",
    "from sklearn.ensemble import RandomForestClassifier, GradientBoostingClassifier\n",
    "from sklearn.model_selection import train_test_split,cross_val_score"
   ]
  },
  {
   "cell_type": "markdown",
   "id": "6ec821c6",
   "metadata": {},
   "source": [
    "# 1. Data Exploration"
   ]
  },
  {
   "cell_type": "markdown",
   "id": "5fd47ef8",
   "metadata": {},
   "source": [
    "In this section, we will make a cursory investigation about the qualitative banking dataset.\n",
    "Since the main goal of this project is to construct a working model which has the capability of predicting the Bankruptcy, 'Industrial Risk', 'Management Risk', 'Financial Flexibility', 'Credibility', 'Competitiveness', and 'Operating Risk'\trepresents **features** and The **target variable**, 'Class', will be the variable we seek to predict. "
   ]
  },
  {
   "cell_type": "markdown",
   "id": "aedde49d",
   "metadata": {},
   "source": [
    "## Loading the dataset"
   ]
  },
  {
   "cell_type": "code",
   "execution_count": 2,
   "id": "d934e875",
   "metadata": {},
   "outputs": [],
   "source": [
    "df = pd.read_csv('Qualitative_Bankruptcy.data.txt',\n",
    "                      names = [\"Industrial Risk\",\"Management Risk\",\"Financial Flexibility\",\"Credibility\",\"Competitiveness\",\"Operating Risk\",\"Class\"])"
   ]
  },
  {
   "cell_type": "markdown",
   "id": "fc292f2d",
   "metadata": {},
   "source": [
    "Let's see the dataset"
   ]
  },
  {
   "cell_type": "code",
   "execution_count": 3,
   "id": "7110a21e",
   "metadata": {},
   "outputs": [
    {
     "data": {
      "text/html": [
       "<div>\n",
       "<style scoped>\n",
       "    .dataframe tbody tr th:only-of-type {\n",
       "        vertical-align: middle;\n",
       "    }\n",
       "\n",
       "    .dataframe tbody tr th {\n",
       "        vertical-align: top;\n",
       "    }\n",
       "\n",
       "    .dataframe thead th {\n",
       "        text-align: right;\n",
       "    }\n",
       "</style>\n",
       "<table border=\"1\" class=\"dataframe\">\n",
       "  <thead>\n",
       "    <tr style=\"text-align: right;\">\n",
       "      <th></th>\n",
       "      <th>Industrial Risk</th>\n",
       "      <th>Management Risk</th>\n",
       "      <th>Financial Flexibility</th>\n",
       "      <th>Credibility</th>\n",
       "      <th>Competitiveness</th>\n",
       "      <th>Operating Risk</th>\n",
       "      <th>Class</th>\n",
       "    </tr>\n",
       "  </thead>\n",
       "  <tbody>\n",
       "    <tr>\n",
       "      <th>0</th>\n",
       "      <td>P</td>\n",
       "      <td>P</td>\n",
       "      <td>A</td>\n",
       "      <td>A</td>\n",
       "      <td>A</td>\n",
       "      <td>P</td>\n",
       "      <td>NB</td>\n",
       "    </tr>\n",
       "    <tr>\n",
       "      <th>1</th>\n",
       "      <td>N</td>\n",
       "      <td>N</td>\n",
       "      <td>A</td>\n",
       "      <td>A</td>\n",
       "      <td>A</td>\n",
       "      <td>N</td>\n",
       "      <td>NB</td>\n",
       "    </tr>\n",
       "    <tr>\n",
       "      <th>2</th>\n",
       "      <td>A</td>\n",
       "      <td>A</td>\n",
       "      <td>A</td>\n",
       "      <td>A</td>\n",
       "      <td>A</td>\n",
       "      <td>A</td>\n",
       "      <td>NB</td>\n",
       "    </tr>\n",
       "    <tr>\n",
       "      <th>3</th>\n",
       "      <td>P</td>\n",
       "      <td>P</td>\n",
       "      <td>P</td>\n",
       "      <td>P</td>\n",
       "      <td>P</td>\n",
       "      <td>P</td>\n",
       "      <td>NB</td>\n",
       "    </tr>\n",
       "    <tr>\n",
       "      <th>4</th>\n",
       "      <td>N</td>\n",
       "      <td>N</td>\n",
       "      <td>P</td>\n",
       "      <td>P</td>\n",
       "      <td>P</td>\n",
       "      <td>N</td>\n",
       "      <td>NB</td>\n",
       "    </tr>\n",
       "  </tbody>\n",
       "</table>\n",
       "</div>"
      ],
      "text/plain": [
       "  Industrial Risk Management Risk Financial Flexibility Credibility  \\\n",
       "0               P               P                     A           A   \n",
       "1               N               N                     A           A   \n",
       "2               A               A                     A           A   \n",
       "3               P               P                     P           P   \n",
       "4               N               N                     P           P   \n",
       "\n",
       "  Competitiveness Operating Risk Class  \n",
       "0               A              P    NB  \n",
       "1               A              N    NB  \n",
       "2               A              A    NB  \n",
       "3               P              P    NB  \n",
       "4               P              N    NB  "
      ]
     },
     "execution_count": 3,
     "metadata": {},
     "output_type": "execute_result"
    }
   ],
   "source": [
    "df.head()"
   ]
  },
  {
   "cell_type": "markdown",
   "id": "f9f40c6f",
   "metadata": {},
   "source": [
    "**Attribute Information:** (P=Positive, A=Average, N=negative, B=Bankruptcy, NB=Non-Bankruptcy)\n",
    " \n",
    "     1. Industrial Risk: {P,A,N}\n",
    "     2. Management Risk: {P,A,N}\n",
    "     3. Financial Flexibility: {P,A,N}\n",
    "     4. Credibility: {P,A,N}\n",
    "     5. Competitiveness: {P,A,N}\n",
    "     6. Operating Risk: {P,A,N}\n",
    "     7. Class: {B,NB}"
   ]
  },
  {
   "cell_type": "markdown",
   "id": "86cb0f9f",
   "metadata": {},
   "source": [
    "## Data Observation"
   ]
  },
  {
   "cell_type": "code",
   "execution_count": 4,
   "id": "a30d4af4",
   "metadata": {},
   "outputs": [
    {
     "name": "stdout",
     "output_type": "stream",
     "text": [
      "<class 'pandas.core.frame.DataFrame'>\n",
      "RangeIndex: 250 entries, 0 to 249\n",
      "Data columns (total 7 columns):\n",
      " #   Column                 Non-Null Count  Dtype \n",
      "---  ------                 --------------  ----- \n",
      " 0   Industrial Risk        250 non-null    object\n",
      " 1   Management Risk        250 non-null    object\n",
      " 2   Financial Flexibility  250 non-null    object\n",
      " 3   Credibility            250 non-null    object\n",
      " 4   Competitiveness        250 non-null    object\n",
      " 5   Operating Risk         250 non-null    object\n",
      " 6   Class                  250 non-null    object\n",
      "dtypes: object(7)\n",
      "memory usage: 13.8+ KB\n"
     ]
    }
   ],
   "source": [
    "# getting the info regarding the features\n",
    "df.info()"
   ]
  },
  {
   "cell_type": "markdown",
   "id": "ccac6e74",
   "metadata": {},
   "source": [
    "As it is shown all the attributes are of **object type** which we might need to convert in order to train the models easily.\n",
    "<br>Moreover, there is **no mising value** in the dataset"
   ]
  },
  {
   "cell_type": "markdown",
   "id": "af28258b",
   "metadata": {},
   "source": [
    "Let' get the summary of the dataset:"
   ]
  },
  {
   "cell_type": "code",
   "execution_count": 5,
   "id": "d864c90d",
   "metadata": {},
   "outputs": [
    {
     "data": {
      "text/html": [
       "<div>\n",
       "<style scoped>\n",
       "    .dataframe tbody tr th:only-of-type {\n",
       "        vertical-align: middle;\n",
       "    }\n",
       "\n",
       "    .dataframe tbody tr th {\n",
       "        vertical-align: top;\n",
       "    }\n",
       "\n",
       "    .dataframe thead th {\n",
       "        text-align: right;\n",
       "    }\n",
       "</style>\n",
       "<table border=\"1\" class=\"dataframe\">\n",
       "  <thead>\n",
       "    <tr style=\"text-align: right;\">\n",
       "      <th></th>\n",
       "      <th>Industrial Risk</th>\n",
       "      <th>Management Risk</th>\n",
       "      <th>Financial Flexibility</th>\n",
       "      <th>Credibility</th>\n",
       "      <th>Competitiveness</th>\n",
       "      <th>Operating Risk</th>\n",
       "      <th>Class</th>\n",
       "    </tr>\n",
       "  </thead>\n",
       "  <tbody>\n",
       "    <tr>\n",
       "      <th>count</th>\n",
       "      <td>250</td>\n",
       "      <td>250</td>\n",
       "      <td>250</td>\n",
       "      <td>250</td>\n",
       "      <td>250</td>\n",
       "      <td>250</td>\n",
       "      <td>250</td>\n",
       "    </tr>\n",
       "    <tr>\n",
       "      <th>unique</th>\n",
       "      <td>3</td>\n",
       "      <td>3</td>\n",
       "      <td>3</td>\n",
       "      <td>3</td>\n",
       "      <td>3</td>\n",
       "      <td>3</td>\n",
       "      <td>2</td>\n",
       "    </tr>\n",
       "    <tr>\n",
       "      <th>top</th>\n",
       "      <td>N</td>\n",
       "      <td>N</td>\n",
       "      <td>N</td>\n",
       "      <td>N</td>\n",
       "      <td>N</td>\n",
       "      <td>N</td>\n",
       "      <td>NB</td>\n",
       "    </tr>\n",
       "    <tr>\n",
       "      <th>freq</th>\n",
       "      <td>89</td>\n",
       "      <td>119</td>\n",
       "      <td>119</td>\n",
       "      <td>94</td>\n",
       "      <td>103</td>\n",
       "      <td>114</td>\n",
       "      <td>143</td>\n",
       "    </tr>\n",
       "  </tbody>\n",
       "</table>\n",
       "</div>"
      ],
      "text/plain": [
       "       Industrial Risk Management Risk Financial Flexibility Credibility  \\\n",
       "count              250             250                   250         250   \n",
       "unique               3               3                     3           3   \n",
       "top                  N               N                     N           N   \n",
       "freq                89             119                   119          94   \n",
       "\n",
       "       Competitiveness Operating Risk Class  \n",
       "count              250            250   250  \n",
       "unique               3              3     2  \n",
       "top                  N              N    NB  \n",
       "freq               103            114   143  "
      ]
     },
     "execution_count": 5,
     "metadata": {},
     "output_type": "execute_result"
    }
   ],
   "source": [
    "# getting the summry of the data set\n",
    "df.describe()"
   ]
  },
  {
   "cell_type": "code",
   "execution_count": 6,
   "id": "b71930db",
   "metadata": {},
   "outputs": [
    {
     "data": {
      "text/plain": [
       "Industrial Risk          False\n",
       "Management Risk          False\n",
       "Financial Flexibility    False\n",
       "Credibility              False\n",
       "Competitiveness          False\n",
       "Operating Risk           False\n",
       "Class                    False\n",
       "dtype: bool"
      ]
     },
     "execution_count": 6,
     "metadata": {},
     "output_type": "execute_result"
    }
   ],
   "source": [
    "# just to recheck the null  values\n",
    "df.isnull().any()"
   ]
  },
  {
   "cell_type": "markdown",
   "id": "890fa7fa",
   "metadata": {},
   "source": [
    "Let's explore the target variable a little bit ('Class')"
   ]
  },
  {
   "cell_type": "code",
   "execution_count": 7,
   "id": "8c252108",
   "metadata": {},
   "outputs": [
    {
     "data": {
      "text/plain": [
       "<AxesSubplot:xlabel='Class', ylabel='count'>"
      ]
     },
     "execution_count": 7,
     "metadata": {},
     "output_type": "execute_result"
    },
    {
     "data": {
      "image/png": "[encoded data removed]",
      "text/plain": [
       "<Figure size 432x288 with 1 Axes>"
      ]
     },
     "metadata": {},
     "output_type": "display_data"
    }
   ],
   "source": [
    "sns.set_style('whitegrid')\n",
    "sns.countplot(df['Class'])"
   ]
  },
  {
   "cell_type": "code",
   "execution_count": 8,
   "id": "4bbe2c15",
   "metadata": {},
   "outputs": [
    {
     "data": {
      "text/plain": [
       "NB    143\n",
       "B     107\n",
       "Name: Class, dtype: int64"
      ]
     },
     "execution_count": 8,
     "metadata": {},
     "output_type": "execute_result"
    }
   ],
   "source": [
    "df['Class'].value_counts()"
   ]
  },
  {
   "cell_type": "markdown",
   "id": "486e43ea",
   "metadata": {},
   "source": [
    "There are 36 more NB in the 'Class' column than B. So more Non-Bankruptcy overall. We can say that the dataset seems balanced."
   ]
  },
  {
   "cell_type": "markdown",
   "id": "33824499",
   "metadata": {},
   "source": [
    "Let's visulize the countplot of each feature in each class seperately to see the distribution of each class in the features."
   ]
  },
  {
   "cell_type": "code",
   "execution_count": 9,
   "id": "5eb53749",
   "metadata": {},
   "outputs": [
    {
     "data": {
      "text/plain": [
       "<AxesSubplot:xlabel='Operating Risk', ylabel='count'>"
      ]
     },
     "execution_count": 9,
     "metadata": {},
     "output_type": "execute_result"
    },
    {
     "data": {
      "image/png": "[encoded data removed]",
      "text/plain": [
       "<Figure size 1080x720 with 6 Axes>"
      ]
     },
     "metadata": {},
     "output_type": "display_data"
    }
   ],
   "source": [
    "fig, axes = plt.subplots(2, 3, figsize=(15, 10), sharey=True)\n",
    "\n",
    "# Industrial Risk\n",
    "sns.countplot(df['Industrial Risk'],hue= df['Class'], ax=axes[0][0])\n",
    "\n",
    "# Management Risk\n",
    "sns.countplot(df['Management Risk'],hue= df['Class'], ax=axes[0][1])\n",
    "\n",
    "# Management Risk\n",
    "sns.countplot(df['Financial Flexibility'],hue= df['Class'], ax=axes[0][2])\n",
    "\n",
    "# Credibility\n",
    "sns.countplot(df['Credibility'],hue= df['Class'], ax=axes[1][0])\n",
    "\n",
    "# Competitiveness\n",
    "sns.countplot(df['Competitiveness'],hue= df['Class'], ax=axes[1][1])\n",
    "\n",
    "# Operating Risk\n",
    "sns.countplot(df['Operating Risk'],hue= df['Class'], ax=axes[1][2])\n"
   ]
  },
  {
   "cell_type": "markdown",
   "id": "9d084214",
   "metadata": {},
   "source": [
    "From the above figures we can observe that **the Bankruptcy is very high for the negative value on all the features** and it is least for the positive values."
   ]
  },
  {
   "cell_type": "markdown",
   "id": "52752e2f",
   "metadata": {},
   "source": [
    "# 2. Data Preprocessing"
   ]
  },
  {
   "cell_type": "markdown",
   "id": "2413283c",
   "metadata": {},
   "source": [
    "First we need to convert the descriptive categorical data into numerical categorical data for the purpose of modeling. Therefore, I am going to apply **Label Encoding**."
   ]
  },
  {
   "cell_type": "code",
   "execution_count": 10,
   "id": "42fcdb2b",
   "metadata": {},
   "outputs": [
    {
     "data": {
      "text/plain": [
       "Index(['Industrial Risk', 'Management Risk', 'Financial Flexibility',\n",
       "       'Credibility', 'Competitiveness', 'Operating Risk', 'Class'],\n",
       "      dtype='object')"
      ]
     },
     "execution_count": 10,
     "metadata": {},
     "output_type": "execute_result"
    }
   ],
   "source": [
    "fetures = df.columns\n",
    "fetures"
   ]
  },
  {
   "cell_type": "code",
   "execution_count": 11,
   "id": "41893259",
   "metadata": {},
   "outputs": [],
   "source": [
    "# the function that encode cetegorical text into categorical numbers\n",
    "def encode_label_func(feat ,df):\n",
    "    encode= LabelEncoder()\n",
    "    df[feat] = encode.fit_transform(df[feat].astype(str))"
   ]
  },
  {
   "cell_type": "code",
   "execution_count": 12,
   "id": "7acb34b9",
   "metadata": {},
   "outputs": [],
   "source": [
    "for i in fetures:\n",
    "    encode_label_func(i,df)"
   ]
  },
  {
   "cell_type": "markdown",
   "id": "4a054fa7",
   "metadata": {},
   "source": [
    "Let's check the dataset again"
   ]
  },
  {
   "cell_type": "code",
   "execution_count": 13,
   "id": "b455891b",
   "metadata": {},
   "outputs": [
    {
     "data": {
      "text/html": [
       "<div>\n",
       "<style scoped>\n",
       "    .dataframe tbody tr th:only-of-type {\n",
       "        vertical-align: middle;\n",
       "    }\n",
       "\n",
       "    .dataframe tbody tr th {\n",
       "        vertical-align: top;\n",
       "    }\n",
       "\n",
       "    .dataframe thead th {\n",
       "        text-align: right;\n",
       "    }\n",
       "</style>\n",
       "<table border=\"1\" class=\"dataframe\">\n",
       "  <thead>\n",
       "    <tr style=\"text-align: right;\">\n",
       "      <th></th>\n",
       "      <th>Industrial Risk</th>\n",
       "      <th>Management Risk</th>\n",
       "      <th>Financial Flexibility</th>\n",
       "      <th>Credibility</th>\n",
       "      <th>Competitiveness</th>\n",
       "      <th>Operating Risk</th>\n",
       "      <th>Class</th>\n",
       "    </tr>\n",
       "  </thead>\n",
       "  <tbody>\n",
       "    <tr>\n",
       "      <th>0</th>\n",
       "      <td>2</td>\n",
       "      <td>2</td>\n",
       "      <td>0</td>\n",
       "      <td>0</td>\n",
       "      <td>0</td>\n",
       "      <td>2</td>\n",
       "      <td>1</td>\n",
       "    </tr>\n",
       "    <tr>\n",
       "      <th>1</th>\n",
       "      <td>1</td>\n",
       "      <td>1</td>\n",
       "      <td>0</td>\n",
       "      <td>0</td>\n",
       "      <td>0</td>\n",
       "      <td>1</td>\n",
       "      <td>1</td>\n",
       "    </tr>\n",
       "    <tr>\n",
       "      <th>2</th>\n",
       "      <td>0</td>\n",
       "      <td>0</td>\n",
       "      <td>0</td>\n",
       "      <td>0</td>\n",
       "      <td>0</td>\n",
       "      <td>0</td>\n",
       "      <td>1</td>\n",
       "    </tr>\n",
       "    <tr>\n",
       "      <th>3</th>\n",
       "      <td>2</td>\n",
       "      <td>2</td>\n",
       "      <td>2</td>\n",
       "      <td>2</td>\n",
       "      <td>2</td>\n",
       "      <td>2</td>\n",
       "      <td>1</td>\n",
       "    </tr>\n",
       "    <tr>\n",
       "      <th>4</th>\n",
       "      <td>1</td>\n",
       "      <td>1</td>\n",
       "      <td>2</td>\n",
       "      <td>2</td>\n",
       "      <td>2</td>\n",
       "      <td>1</td>\n",
       "      <td>1</td>\n",
       "    </tr>\n",
       "  </tbody>\n",
       "</table>\n",
       "</div>"
      ],
      "text/plain": [
       "   Industrial Risk  Management Risk  Financial Flexibility  Credibility  \\\n",
       "0                2                2                      0            0   \n",
       "1                1                1                      0            0   \n",
       "2                0                0                      0            0   \n",
       "3                2                2                      2            2   \n",
       "4                1                1                      2            2   \n",
       "\n",
       "   Competitiveness  Operating Risk  Class  \n",
       "0                0               2      1  \n",
       "1                0               1      1  \n",
       "2                0               0      1  \n",
       "3                2               2      1  \n",
       "4                2               1      1  "
      ]
     },
     "execution_count": 13,
     "metadata": {},
     "output_type": "execute_result"
    }
   ],
   "source": [
    "df.head()"
   ]
  },
  {
   "cell_type": "code",
   "execution_count": 14,
   "id": "30d837f9",
   "metadata": {},
   "outputs": [
    {
     "name": "stdout",
     "output_type": "stream",
     "text": [
      "<class 'pandas.core.frame.DataFrame'>\n",
      "RangeIndex: 250 entries, 0 to 249\n",
      "Data columns (total 7 columns):\n",
      " #   Column                 Non-Null Count  Dtype\n",
      "---  ------                 --------------  -----\n",
      " 0   Industrial Risk        250 non-null    int32\n",
      " 1   Management Risk        250 non-null    int32\n",
      " 2   Financial Flexibility  250 non-null    int32\n",
      " 3   Credibility            250 non-null    int32\n",
      " 4   Competitiveness        250 non-null    int32\n",
      " 5   Operating Risk         250 non-null    int32\n",
      " 6   Class                  250 non-null    int32\n",
      "dtypes: int32(7)\n",
      "memory usage: 7.0 KB\n"
     ]
    }
   ],
   "source": [
    "df.info()"
   ]
  },
  {
   "cell_type": "markdown",
   "id": "9d0d78c0",
   "metadata": {},
   "source": [
    "## Data Correlation"
   ]
  },
  {
   "cell_type": "markdown",
   "id": "3c0d7ec2",
   "metadata": {},
   "source": [
    "Now let's explore correlation between the features."
   ]
  },
  {
   "cell_type": "code",
   "execution_count": 15,
   "id": "08b9cb75",
   "metadata": {},
   "outputs": [
    {
     "data": {
      "text/html": [
       "<div>\n",
       "<style scoped>\n",
       "    .dataframe tbody tr th:only-of-type {\n",
       "        vertical-align: middle;\n",
       "    }\n",
       "\n",
       "    .dataframe tbody tr th {\n",
       "        vertical-align: top;\n",
       "    }\n",
       "\n",
       "    .dataframe thead th {\n",
       "        text-align: right;\n",
       "    }\n",
       "</style>\n",
       "<table border=\"1\" class=\"dataframe\">\n",
       "  <thead>\n",
       "    <tr style=\"text-align: right;\">\n",
       "      <th></th>\n",
       "      <th>Industrial Risk</th>\n",
       "      <th>Management Risk</th>\n",
       "      <th>Financial Flexibility</th>\n",
       "      <th>Credibility</th>\n",
       "      <th>Competitiveness</th>\n",
       "      <th>Operating Risk</th>\n",
       "      <th>Class</th>\n",
       "    </tr>\n",
       "  </thead>\n",
       "  <tbody>\n",
       "    <tr>\n",
       "      <th>Industrial Risk</th>\n",
       "      <td>1.000000</td>\n",
       "      <td>0.110063</td>\n",
       "      <td>0.068694</td>\n",
       "      <td>-0.050432</td>\n",
       "      <td>0.060428</td>\n",
       "      <td>0.177573</td>\n",
       "      <td>0.015836</td>\n",
       "    </tr>\n",
       "    <tr>\n",
       "      <th>Management Risk</th>\n",
       "      <td>0.110063</td>\n",
       "      <td>1.000000</td>\n",
       "      <td>-0.018999</td>\n",
       "      <td>-0.006609</td>\n",
       "      <td>-0.132174</td>\n",
       "      <td>0.253851</td>\n",
       "      <td>0.100632</td>\n",
       "    </tr>\n",
       "    <tr>\n",
       "      <th>Financial Flexibility</th>\n",
       "      <td>0.068694</td>\n",
       "      <td>-0.018999</td>\n",
       "      <td>1.000000</td>\n",
       "      <td>-0.020124</td>\n",
       "      <td>0.150036</td>\n",
       "      <td>-0.064455</td>\n",
       "      <td>-0.047966</td>\n",
       "    </tr>\n",
       "    <tr>\n",
       "      <th>Credibility</th>\n",
       "      <td>-0.050432</td>\n",
       "      <td>-0.006609</td>\n",
       "      <td>-0.020124</td>\n",
       "      <td>1.000000</td>\n",
       "      <td>0.092155</td>\n",
       "      <td>0.054104</td>\n",
       "      <td>0.152045</td>\n",
       "    </tr>\n",
       "    <tr>\n",
       "      <th>Competitiveness</th>\n",
       "      <td>0.060428</td>\n",
       "      <td>-0.132174</td>\n",
       "      <td>0.150036</td>\n",
       "      <td>0.092155</td>\n",
       "      <td>1.000000</td>\n",
       "      <td>-0.073031</td>\n",
       "      <td>0.203521</td>\n",
       "    </tr>\n",
       "    <tr>\n",
       "      <th>Operating Risk</th>\n",
       "      <td>0.177573</td>\n",
       "      <td>0.253851</td>\n",
       "      <td>-0.064455</td>\n",
       "      <td>0.054104</td>\n",
       "      <td>-0.073031</td>\n",
       "      <td>1.000000</td>\n",
       "      <td>0.159147</td>\n",
       "    </tr>\n",
       "    <tr>\n",
       "      <th>Class</th>\n",
       "      <td>0.015836</td>\n",
       "      <td>0.100632</td>\n",
       "      <td>-0.047966</td>\n",
       "      <td>0.152045</td>\n",
       "      <td>0.203521</td>\n",
       "      <td>0.159147</td>\n",
       "      <td>1.000000</td>\n",
       "    </tr>\n",
       "  </tbody>\n",
       "</table>\n",
       "</div>"
      ],
      "text/plain": [
       "                       Industrial Risk  Management Risk  \\\n",
       "Industrial Risk               1.000000         0.110063   \n",
       "Management Risk               0.110063         1.000000   \n",
       "Financial Flexibility         0.068694        -0.018999   \n",
       "Credibility                  -0.050432        -0.006609   \n",
       "Competitiveness               0.060428        -0.132174   \n",
       "Operating Risk                0.177573         0.253851   \n",
       "Class                         0.015836         0.100632   \n",
       "\n",
       "                       Financial Flexibility  Credibility  Competitiveness  \\\n",
       "Industrial Risk                     0.068694    -0.050432         0.060428   \n",
       "Management Risk                    -0.018999    -0.006609        -0.132174   \n",
       "Financial Flexibility               1.000000    -0.020124         0.150036   \n",
       "Credibility                        -0.020124     1.000000         0.092155   \n",
       "Competitiveness                     0.150036     0.092155         1.000000   \n",
       "Operating Risk                     -0.064455     0.054104        -0.073031   \n",
       "Class                              -0.047966     0.152045         0.203521   \n",
       "\n",
       "                       Operating Risk     Class  \n",
       "Industrial Risk              0.177573  0.015836  \n",
       "Management Risk              0.253851  0.100632  \n",
       "Financial Flexibility       -0.064455 -0.047966  \n",
       "Credibility                  0.054104  0.152045  \n",
       "Competitiveness             -0.073031  0.203521  \n",
       "Operating Risk               1.000000  0.159147  \n",
       "Class                        0.159147  1.000000  "
      ]
     },
     "execution_count": 15,
     "metadata": {},
     "output_type": "execute_result"
    }
   ],
   "source": [
    "df.corr(method='pearson')"
   ]
  },
  {
   "cell_type": "code",
   "execution_count": 16,
   "id": "273fb93f",
   "metadata": {},
   "outputs": [
    {
     "data": {
      "text/plain": [
       "<AxesSubplot:>"
      ]
     },
     "execution_count": 16,
     "metadata": {},
     "output_type": "execute_result"
    },
    {
     "data": {
      "image/png": "[encoded data removed]",
      "text/plain": [
       "<Figure size 864x432 with 2 Axes>"
      ]
     },
     "metadata": {},
     "output_type": "display_data"
    }
   ],
   "source": [
    "plt.figure(figsize=(12, 6))\n",
    "sns.heatmap(df.corr(method='pearson'),annot=True,cmap='coolwarm')"
   ]
  },
  {
   "cell_type": "code",
   "execution_count": 17,
   "id": "ef4fe6ff",
   "metadata": {},
   "outputs": [],
   "source": [
    "features = df.drop(['Class'],axis=1)"
   ]
  },
  {
   "cell_type": "code",
   "execution_count": 18,
   "id": "23770607",
   "metadata": {},
   "outputs": [
    {
     "data": {
      "text/plain": [
       "<AxesSubplot:title={'center':'Correlation with Class'}>"
      ]
     },
     "execution_count": 18,
     "metadata": {},
     "output_type": "execute_result"
    },
    {
     "data": {
      "image/png": "[encoded data removed]",
      "text/plain": [
       "<Figure size 864x432 with 1 Axes>"
      ]
     },
     "metadata": {},
     "output_type": "display_data"
    }
   ],
   "source": [
    "features.corrwith(df.Class).plot.bar(figsize = (12, 6), title = \"Correlation with Class\", rot = 90, grid = True)"
   ]
  },
  {
   "cell_type": "markdown",
   "id": "042749cc",
   "metadata": {},
   "source": [
    "**The correlation between features and the 'Class' is very low** accouring to the above tables and figures. However, the Bankruptcy is mostly correlated with the 'Competitiveness' column. Which means the higher is the market position, it is more posible to experience bankruptcy."
   ]
  },
  {
   "cell_type": "markdown",
   "id": "9e2d2f84",
   "metadata": {},
   "source": [
    "# 3.  Model Development"
   ]
  },
  {
   "cell_type": "markdown",
   "id": "5aa3a5f3",
   "metadata": {},
   "source": [
    "### Setting up the Features and the Target"
   ]
  },
  {
   "cell_type": "code",
   "execution_count": 19,
   "id": "2113a160",
   "metadata": {},
   "outputs": [],
   "source": [
    "X = df.drop('Class',axis=1)\n",
    "y = df['Class']"
   ]
  },
  {
   "cell_type": "markdown",
   "id": "4902d3e6",
   "metadata": {},
   "source": [
    "###  Splitting Data to Train Test sets"
   ]
  },
  {
   "cell_type": "code",
   "execution_count": 20,
   "id": "d68a6d73",
   "metadata": {},
   "outputs": [],
   "source": [
    "X_train, X_test, y_train, y_test = train_test_split(X, y, test_size = 0.2,stratify=y, random_state = 101)"
   ]
  },
  {
   "cell_type": "code",
   "execution_count": 21,
   "id": "72e71a07",
   "metadata": {},
   "outputs": [
    {
     "name": "stdout",
     "output_type": "stream",
     "text": [
      "X_train shape: (200, 6)\n",
      "X_test shape: (50, 6)\n",
      "Y_train shape: (200,)\n",
      "X_test shape: (50,)\n"
     ]
    }
   ],
   "source": [
    "print(\"X_train shape:\", X_train.shape)\n",
    "print(\"X_test shape:\", X_test.shape)\n",
    "print(\"Y_train shape:\", y_train.shape)\n",
    "print(\"X_test shape:\", y_test.shape)"
   ]
  },
  {
   "cell_type": "markdown",
   "id": "973bcb7e",
   "metadata": {},
   "source": [
    "Let's see the **distribition of classes** in test and train sets:"
   ]
  },
  {
   "cell_type": "code",
   "execution_count": 22,
   "id": "36130068",
   "metadata": {},
   "outputs": [
    {
     "data": {
      "image/png": "[encoded data removed]",
      "text/plain": [
       "<Figure size 360x216 with 1 Axes>"
      ]
     },
     "metadata": {},
     "output_type": "display_data"
    }
   ],
   "source": [
    "plt.figure(figsize = (5,3))\n",
    "labels = [\"No Bankrupcy\", \"Bankrupcy\"]\n",
    "plt.pie(y_train.value_counts().values,labels = labels, autopct='%.1f%%')\n",
    "plt.title(\"Distribution of Bankrupcy and No-Bankrupcy records in Train data\")\n",
    "plt.show()"
   ]
  },
  {
   "cell_type": "code",
   "execution_count": 23,
   "id": "97a87a9e",
   "metadata": {},
   "outputs": [
    {
     "data": {
      "image/png": "[encoded data removed]",
      "text/plain": [
       "<Figure size 360x216 with 1 Axes>"
      ]
     },
     "metadata": {},
     "output_type": "display_data"
    }
   ],
   "source": [
    "plt.figure(figsize = (5,3))\n",
    "labels = [\"No Bankrupcy\", \"Bankrupcy\"]\n",
    "plt.pie(y_test.value_counts().values,labels = labels, autopct='%.1f%%')\n",
    "plt.title(\"Distribution of Bankrupcy and No-Bankrupcy records in Test data\")\n",
    "plt.show()"
   ]
  },
  {
   "cell_type": "markdown",
   "id": "54fc1bc8",
   "metadata": {},
   "source": [
    "It can be clearly seen from the pie chart that the dataset is **balanced** and the distribition of classes in both sets are fair. So we will are good to go to the next step."
   ]
  },
  {
   "cell_type": "markdown",
   "id": "1415aa4b",
   "metadata": {},
   "source": [
    "# Classification Models"
   ]
  },
  {
   "cell_type": "markdown",
   "id": "f65f3ef6",
   "metadata": {},
   "source": [
    "### Cross Validation"
   ]
  },
  {
   "cell_type": "markdown",
   "id": "531b3c22",
   "metadata": {},
   "source": [
    "Using Cross Validation can be benefitial as we can verify how accurate our model is on multiple and different subsets of data. "
   ]
  },
  {
   "cell_type": "code",
   "execution_count": 24,
   "id": "c6bec744",
   "metadata": {},
   "outputs": [],
   "source": [
    "kfold = KFold(n_splits=10,shuffle=True, random_state=10)"
   ]
  },
  {
   "cell_type": "markdown",
   "id": "7b44de8f",
   "metadata": {},
   "source": [
    "### Grid Search"
   ]
  },
  {
   "cell_type": "markdown",
   "id": "3467dad4",
   "metadata": {},
   "source": [
    "In order to optimize a learning algorithms, we can apply grid search by specifying the parameters, and the possible values of those parameters. **The grid search then returns the best parameter values for our model**, after fitting the supplied data. This takes out the guess-work involved in seeking out the opitimal paramter values for a classifier."
   ]
  },
  {
   "cell_type": "code",
   "execution_count": 25,
   "id": "4dd13652",
   "metadata": {},
   "outputs": [],
   "source": [
    "def grid_search(model, grid_param):    \n",
    "    grid = GridSearchCV(estimator=model,\n",
    "                         param_grid=grid_param,\n",
    "                         scoring='accuracy',\n",
    "                         cv=10,\n",
    "                         verbose=1,\n",
    "                         n_jobs=-1)\n",
    "\n",
    "    grid.fit(X_train, y_train)\n",
    "    print(\"Best parameters: {}\".format(grid.best_params_))\n",
    "    model_best = grid.best_estimator_\n",
    "    return model_best"
   ]
  },
  {
   "cell_type": "markdown",
   "id": "bc4485e5",
   "metadata": {},
   "source": [
    "### Model Evaluation"
   ]
  },
  {
   "cell_type": "code",
   "execution_count": 26,
   "id": "ec8422f3",
   "metadata": {},
   "outputs": [],
   "source": [
    "def model_eval_df(model):\n",
    "    \n",
    "    # cross validation\n",
    "    cross_acc = cross_val_score(estimator = model, X = X_train, y = y_train, cv = kfold, scoring='accuracy').mean()\n",
    "    \n",
    "    # Evaluation\n",
    "    y_pred = model.predict(X_test)\n",
    "    \n",
    "    #confusion matrix\n",
    "    sns.heatmap(confusion_matrix(y_test,y_pred) ,linewidths=0.5, annot=True, fmt='d', cmap='coolwarm')\n",
    "    plt.title('Confusion Matrix')\n",
    "    plt.xlabel('predicted value')\n",
    "    plt.ylabel('true value')\n",
    "    plt.show()\n",
    "    print('Classification Report : \\n',classification_report(y_test,y_pred, target_names = ['B', 'NB' ]))\n",
    "    \n",
    "    acc= accuracy_score(y_test, y_pred)\n",
    "    roc=roc_auc_score(y_test, y_pred)\n",
    "    prec = precision_score(y_test, y_pred)\n",
    "    rec = recall_score(y_test, y_pred)\n",
    "    f1 = f1_score(y_test, y_pred)\n",
    "\n",
    "    results = pd.DataFrame([[model, acc, cross_acc, prec, rec, f1,roc]],\n",
    "                   columns = ['Model', 'Accuracy','Cross Val Accuracy', 'Precision', 'Recall', 'F1 Score','ROC'])\n",
    "    results\n",
    "    \n",
    "    return results"
   ]
  },
  {
   "cell_type": "markdown",
   "id": "cf976d6a",
   "metadata": {},
   "source": [
    "## Logistics Regression"
   ]
  },
  {
   "cell_type": "code",
   "execution_count": 27,
   "id": "7f8a90af",
   "metadata": {},
   "outputs": [],
   "source": [
    "logi = LogisticRegression(random_state = 0)"
   ]
  },
  {
   "cell_type": "code",
   "execution_count": 28,
   "id": "cd99a30d",
   "metadata": {},
   "outputs": [
    {
     "name": "stdout",
     "output_type": "stream",
     "text": [
      "Fitting 10 folds for each of 100 candidates, totalling 1000 fits\n",
      "Best parameters: {'C': 0.18420699693267145, 'penalty': 'l2'}\n"
     ]
    }
   ],
   "source": [
    "param_logi = { \"C\": np.logspace(-4, 4, 50),\n",
    "               \"penalty\" : ['l1', 'l2']\n",
    "             }\n",
    "logi_best =  grid_search(logi, param_logi)"
   ]
  },
  {
   "cell_type": "code",
   "execution_count": 29,
   "id": "289eb9fd",
   "metadata": {},
   "outputs": [
    {
     "data": {
      "image/png": "[encoded data removed]",
      "text/plain": [
       "<Figure size 432x288 with 2 Axes>"
      ]
     },
     "metadata": {},
     "output_type": "display_data"
    },
    {
     "name": "stdout",
     "output_type": "stream",
     "text": [
      "Classification Report : \n",
      "               precision    recall  f1-score   support\n",
      "\n",
      "           B       0.40      0.38      0.39        21\n",
      "          NB       0.57      0.59      0.58        29\n",
      "\n",
      "    accuracy                           0.50        50\n",
      "   macro avg       0.48      0.48      0.48        50\n",
      "weighted avg       0.50      0.50      0.50        50\n",
      "\n"
     ]
    }
   ],
   "source": [
    "results = model_eval_df(logi_best)\n",
    "#results"
   ]
  },
  {
   "cell_type": "markdown",
   "id": "23ea7a39",
   "metadata": {},
   "source": [
    "Here we are getting accuracy of 50%. As we have less number of rows in this dataset thats why we are getting less accuracy."
   ]
  },
  {
   "cell_type": "markdown",
   "id": "ed788c25",
   "metadata": {},
   "source": [
    "## K-Nearest Neighbors"
   ]
  },
  {
   "cell_type": "markdown",
   "id": "f52ba9c2",
   "metadata": {},
   "source": [
    "For KNN algorithm I will test severl k in range 1-20 an then accourding to the train and test score xhoose the most conviniant k."
   ]
  },
  {
   "cell_type": "code",
   "execution_count": 30,
   "id": "399fd22c",
   "metadata": {},
   "outputs": [],
   "source": [
    "train_score_array = []\n",
    "test_score_array = []\n",
    "\n",
    "for k in range(1,20):\n",
    "    knn = KNeighborsClassifier(k)\n",
    "    knn.fit(X_train, y_train)\n",
    "    train_score_array.append(knn.score(X_train, y_train))\n",
    "    test_score_array.append(knn.score(X_test, y_test))"
   ]
  },
  {
   "cell_type": "code",
   "execution_count": 31,
   "id": "f6a8714e",
   "metadata": {},
   "outputs": [
    {
     "data": {
      "text/plain": [
       "<matplotlib.legend.Legend at 0x1379391c250>"
      ]
     },
     "execution_count": 31,
     "metadata": {},
     "output_type": "execute_result"
    },
    {
     "data": {
      "image/png": "[encoded data removed]",
      "text/plain": [
       "<Figure size 432x288 with 1 Axes>"
      ]
     },
     "metadata": {},
     "output_type": "display_data"
    }
   ],
   "source": [
    "x_axis = range(1,20)\n",
    "plt.plot(x_axis, train_score_array, label = 'Train Score', c = 'g')\n",
    "plt.plot(x_axis, test_score_array, label = 'Test Score', c='b')\n",
    "plt.xlabel('k')\n",
    "plt.ylabel('Accuracy')\n",
    "plt.legend()"
   ]
  },
  {
   "cell_type": "markdown",
   "id": "c846aa8a",
   "metadata": {},
   "source": [
    "There is bent at K=1 which tells us that this is the optimal number of clusters probably the dataset is having.\n",
    "Let's try to get the optimum parameters using the GridSearch."
   ]
  },
  {
   "cell_type": "code",
   "execution_count": 32,
   "id": "05052a8e",
   "metadata": {},
   "outputs": [],
   "source": [
    "knn = KNeighborsClassifier()"
   ]
  },
  {
   "cell_type": "code",
   "execution_count": 33,
   "id": "49928cc4",
   "metadata": {},
   "outputs": [
    {
     "name": "stdout",
     "output_type": "stream",
     "text": [
      "Fitting 10 folds for each of 57 candidates, totalling 570 fits\n",
      "Best parameters: {'leaf_size': 30, 'n_neighbors': 1}\n"
     ]
    }
   ],
   "source": [
    "param_knn = { \"n_neighbors\": range(1,20),\n",
    "               \"leaf_size\": (20, 30, 40)\n",
    "             }\n",
    "knn_best =  grid_search(knn, param_knn)"
   ]
  },
  {
   "cell_type": "code",
   "execution_count": 34,
   "id": "1b67eaf1",
   "metadata": {},
   "outputs": [
    {
     "data": {
      "image/png": "[encoded data removed]",
      "text/plain": [
       "<Figure size 432x288 with 2 Axes>"
      ]
     },
     "metadata": {},
     "output_type": "display_data"
    },
    {
     "name": "stdout",
     "output_type": "stream",
     "text": [
      "Classification Report : \n",
      "               precision    recall  f1-score   support\n",
      "\n",
      "           B       1.00      1.00      1.00        21\n",
      "          NB       1.00      1.00      1.00        29\n",
      "\n",
      "    accuracy                           1.00        50\n",
      "   macro avg       1.00      1.00      1.00        50\n",
      "weighted avg       1.00      1.00      1.00        50\n",
      "\n"
     ]
    }
   ],
   "source": [
    "results = results.append(model_eval_df(knn_best))\n",
    "#results"
   ]
  },
  {
   "cell_type": "markdown",
   "id": "00190fc4",
   "metadata": {},
   "source": [
    "## Decision Tree"
   ]
  },
  {
   "cell_type": "code",
   "execution_count": 35,
   "id": "28b94941",
   "metadata": {},
   "outputs": [],
   "source": [
    "dtree = DecisionTreeClassifier()"
   ]
  },
  {
   "cell_type": "code",
   "execution_count": 36,
   "id": "588e737f",
   "metadata": {},
   "outputs": [
    {
     "name": "stdout",
     "output_type": "stream",
     "text": [
      "Fitting 10 folds for each of 72 candidates, totalling 720 fits\n",
      "Best parameters: {'criterion': 'gini', 'max_depth': 4, 'min_samples_split': 2}\n"
     ]
    }
   ],
   "source": [
    "#parameter for gridsearchcv\n",
    "param_dtree = {\n",
    "    \"criterion\": ['gini', 'entropy'],\n",
    "    \"max_depth\": range(1,10),\n",
    "    \"min_samples_split\": range(1,10),\n",
    "    \"min_samples_split\": range(1,5)\n",
    "}\n",
    "\n",
    "dtree_best =  grid_search(dtree, param_dtree)"
   ]
  },
  {
   "cell_type": "markdown",
   "id": "75c6b6de",
   "metadata": {},
   "source": [
    "Now by getting the best model for the final evaluation we have:"
   ]
  },
  {
   "cell_type": "code",
   "execution_count": 37,
   "id": "d43245f2",
   "metadata": {},
   "outputs": [
    {
     "data": {
      "image/png": "[encoded data removed]",
      "text/plain": [
       "<Figure size 432x288 with 2 Axes>"
      ]
     },
     "metadata": {},
     "output_type": "display_data"
    },
    {
     "name": "stdout",
     "output_type": "stream",
     "text": [
      "Classification Report : \n",
      "               precision    recall  f1-score   support\n",
      "\n",
      "           B       0.84      1.00      0.91        21\n",
      "          NB       1.00      0.86      0.93        29\n",
      "\n",
      "    accuracy                           0.92        50\n",
      "   macro avg       0.92      0.93      0.92        50\n",
      "weighted avg       0.93      0.92      0.92        50\n",
      "\n"
     ]
    }
   ],
   "source": [
    "results = results.append(model_eval_df(dtree_best))\n",
    "#results"
   ]
  },
  {
   "cell_type": "markdown",
   "id": "af01d59b",
   "metadata": {},
   "source": [
    "## Support Vector Machine "
   ]
  },
  {
   "cell_type": "markdown",
   "id": "c29b2e4a",
   "metadata": {},
   "source": [
    "Lets find the best gamma nad C parmeters for the SVM"
   ]
  },
  {
   "cell_type": "code",
   "execution_count": 38,
   "id": "033f0f1d",
   "metadata": {},
   "outputs": [],
   "source": [
    "svm = SVC()"
   ]
  },
  {
   "cell_type": "code",
   "execution_count": 39,
   "id": "cf08c8e2",
   "metadata": {},
   "outputs": [
    {
     "name": "stdout",
     "output_type": "stream",
     "text": [
      "Fitting 10 folds for each of 72 candidates, totalling 720 fits\n",
      "Best parameters: {'C': 1, 'gamma': 1, 'kernel': 'rbf'}\n"
     ]
    }
   ],
   "source": [
    "#parameter for gridsearchcv\n",
    "param_svm = { \"kernel\": ['sigmoid', 'rbf'],\n",
    "              \"gamma\": [0.001, 0.01, 0.1, 1, 10, 100],\n",
    "              \"C\" : [0.001, 0.01, 0.1, 1, 10, 100],\n",
    "}\n",
    "\n",
    "svm_best =  grid_search(svm, param_svm)"
   ]
  },
  {
   "cell_type": "code",
   "execution_count": 40,
   "id": "ccdde07c",
   "metadata": {},
   "outputs": [
    {
     "data": {
      "image/png": "[encoded data removed]",
      "text/plain": [
       "<Figure size 432x288 with 2 Axes>"
      ]
     },
     "metadata": {},
     "output_type": "display_data"
    },
    {
     "name": "stdout",
     "output_type": "stream",
     "text": [
      "Classification Report : \n",
      "               precision    recall  f1-score   support\n",
      "\n",
      "           B       1.00      1.00      1.00        21\n",
      "          NB       1.00      1.00      1.00        29\n",
      "\n",
      "    accuracy                           1.00        50\n",
      "   macro avg       1.00      1.00      1.00        50\n",
      "weighted avg       1.00      1.00      1.00        50\n",
      "\n"
     ]
    }
   ],
   "source": [
    "results = results.append(model_eval_df(svm_best))\n",
    "#results"
   ]
  },
  {
   "cell_type": "markdown",
   "id": "555ad0a4",
   "metadata": {},
   "source": [
    "## MLP"
   ]
  },
  {
   "cell_type": "code",
   "execution_count": 41,
   "id": "210b9744",
   "metadata": {},
   "outputs": [],
   "source": [
    "mlp = MLPClassifier()"
   ]
  },
  {
   "cell_type": "code",
   "execution_count": 42,
   "id": "5099698b",
   "metadata": {},
   "outputs": [
    {
     "name": "stdout",
     "output_type": "stream",
     "text": [
      "Fitting 10 folds for each of 32 candidates, totalling 320 fits\n",
      "Best parameters: {'activation': 'relu', 'alpha': 0.05, 'hidden_layer_sizes': (10, 30, 10), 'learning_rate': 'adaptive', 'solver': 'adam'}\n"
     ]
    }
   ],
   "source": [
    "param_mlp = {\n",
    "    'hidden_layer_sizes': [(10,30,10),(20,)],\n",
    "    'activation': ['tanh', 'relu'],\n",
    "    'solver': ['sgd', 'adam'],\n",
    "    'alpha': [0.0001, 0.05],\n",
    "    'learning_rate': ['constant','adaptive'],\n",
    "}\n",
    "\n",
    "mlp_best =  grid_search(mlp, param_mlp)"
   ]
  },
  {
   "cell_type": "code",
   "execution_count": 43,
   "id": "ad82eed1",
   "metadata": {},
   "outputs": [
    {
     "data": {
      "image/png": "[encoded data removed]",
      "text/plain": [
       "<Figure size 432x288 with 2 Axes>"
      ]
     },
     "metadata": {},
     "output_type": "display_data"
    },
    {
     "name": "stdout",
     "output_type": "stream",
     "text": [
      "Classification Report : \n",
      "               precision    recall  f1-score   support\n",
      "\n",
      "           B       0.80      0.95      0.87        21\n",
      "          NB       0.96      0.83      0.89        29\n",
      "\n",
      "    accuracy                           0.88        50\n",
      "   macro avg       0.88      0.89      0.88        50\n",
      "weighted avg       0.89      0.88      0.88        50\n",
      "\n"
     ]
    }
   ],
   "source": [
    "results = results.append(model_eval_df(mlp_best))\n",
    "#results"
   ]
  },
  {
   "cell_type": "markdown",
   "id": "0133b0b0",
   "metadata": {},
   "source": [
    "## Random Forest"
   ]
  },
  {
   "cell_type": "code",
   "execution_count": 44,
   "id": "ef5047c9",
   "metadata": {},
   "outputs": [],
   "source": [
    "randforest = RandomForestClassifier()"
   ]
  },
  {
   "cell_type": "code",
   "execution_count": 45,
   "id": "ec9e079e",
   "metadata": {},
   "outputs": [
    {
     "name": "stdout",
     "output_type": "stream",
     "text": [
      "Fitting 10 folds for each of 60 candidates, totalling 600 fits\n",
      "Best parameters: {'criterion': 'gini', 'max_depth': 4, 'max_features': 'auto', 'n_estimators': 200}\n"
     ]
    }
   ],
   "source": [
    "param_rf = { \n",
    "    'n_estimators': [200, 500],\n",
    "    'max_features': ['auto', 'sqrt', 'log2'],\n",
    "    'max_depth' : [4,5,6,7,8],\n",
    "    'criterion' :['gini', 'entropy']\n",
    "}\n",
    "\n",
    "randforest_best =  grid_search(randforest, param_rf)"
   ]
  },
  {
   "cell_type": "code",
   "execution_count": 46,
   "id": "dcc8716d",
   "metadata": {},
   "outputs": [
    {
     "data": {
      "image/png": "[encoded data removed]",
      "text/plain": [
       "<Figure size 432x288 with 2 Axes>"
      ]
     },
     "metadata": {},
     "output_type": "display_data"
    },
    {
     "name": "stdout",
     "output_type": "stream",
     "text": [
      "Classification Report : \n",
      "               precision    recall  f1-score   support\n",
      "\n",
      "           B       1.00      1.00      1.00        21\n",
      "          NB       1.00      1.00      1.00        29\n",
      "\n",
      "    accuracy                           1.00        50\n",
      "   macro avg       1.00      1.00      1.00        50\n",
      "weighted avg       1.00      1.00      1.00        50\n",
      "\n"
     ]
    }
   ],
   "source": [
    "results = results.append(model_eval_df(randforest_best))\n",
    "#results"
   ]
  },
  {
   "cell_type": "markdown",
   "id": "d3702597",
   "metadata": {},
   "source": [
    "## Gradient Boosting"
   ]
  },
  {
   "cell_type": "code",
   "execution_count": 47,
   "id": "b639423b",
   "metadata": {},
   "outputs": [],
   "source": [
    "gradboost = GradientBoostingClassifier()"
   ]
  },
  {
   "cell_type": "code",
   "execution_count": 48,
   "id": "fea7c169",
   "metadata": {},
   "outputs": [
    {
     "name": "stdout",
     "output_type": "stream",
     "text": [
      "Fitting 10 folds for each of 81 candidates, totalling 810 fits\n",
      "Best parameters: {'learning_rate': 0.01, 'loss': 'deviance', 'max_depth': 4, 'n_estimators': 500, 'subsample': 0.9}\n"
     ]
    }
   ],
   "source": [
    "param_gb = {\n",
    "    \"loss\":[\"deviance\"],\n",
    "    \"learning_rate\": [0.01, 0.05, 0.1],\n",
    "    'subsample'    : [0.9, 0.5, 0.1],\n",
    "    'n_estimators' : [500,1000, 1500],\n",
    "    'max_depth'    : [4,8,10]\n",
    "    }\n",
    "\n",
    "gradboost_best =  grid_search(gradboost, param_gb)"
   ]
  },
  {
   "cell_type": "code",
   "execution_count": 49,
   "id": "eac133dc",
   "metadata": {},
   "outputs": [
    {
     "data": {
      "image/png": "[encoded data removed]",
      "text/plain": [
       "<Figure size 432x288 with 2 Axes>"
      ]
     },
     "metadata": {},
     "output_type": "display_data"
    },
    {
     "name": "stdout",
     "output_type": "stream",
     "text": [
      "Classification Report : \n",
      "               precision    recall  f1-score   support\n",
      "\n",
      "           B       1.00      1.00      1.00        21\n",
      "          NB       1.00      1.00      1.00        29\n",
      "\n",
      "    accuracy                           1.00        50\n",
      "   macro avg       1.00      1.00      1.00        50\n",
      "weighted avg       1.00      1.00      1.00        50\n",
      "\n"
     ]
    }
   ],
   "source": [
    "results = results.append(model_eval_df(gradboost_best))\n",
    "#results"
   ]
  },
  {
   "cell_type": "code",
   "execution_count": 50,
   "id": "d0df2533",
   "metadata": {},
   "outputs": [
    {
     "data": {
      "text/html": [
       "<div>\n",
       "<style scoped>\n",
       "    .dataframe tbody tr th:only-of-type {\n",
       "        vertical-align: middle;\n",
       "    }\n",
       "\n",
       "    .dataframe tbody tr th {\n",
       "        vertical-align: top;\n",
       "    }\n",
       "\n",
       "    .dataframe thead th {\n",
       "        text-align: right;\n",
       "    }\n",
       "</style>\n",
       "<table border=\"1\" class=\"dataframe\">\n",
       "  <thead>\n",
       "    <tr style=\"text-align: right;\">\n",
       "      <th></th>\n",
       "      <th>Model</th>\n",
       "      <th>Accuracy</th>\n",
       "      <th>Cross Val Accuracy</th>\n",
       "      <th>Precision</th>\n",
       "      <th>Recall</th>\n",
       "      <th>F1 Score</th>\n",
       "      <th>ROC</th>\n",
       "    </tr>\n",
       "  </thead>\n",
       "  <tbody>\n",
       "    <tr>\n",
       "      <th>0</th>\n",
       "      <td>LogisticRegression(C=0.18420699693267145, rand...</td>\n",
       "      <td>0.50</td>\n",
       "      <td>0.600</td>\n",
       "      <td>0.566667</td>\n",
       "      <td>0.586207</td>\n",
       "      <td>0.576271</td>\n",
       "      <td>0.483580</td>\n",
       "    </tr>\n",
       "    <tr>\n",
       "      <th>1</th>\n",
       "      <td>KNeighborsClassifier(n_neighbors=1)</td>\n",
       "      <td>1.00</td>\n",
       "      <td>0.985</td>\n",
       "      <td>1.000000</td>\n",
       "      <td>1.000000</td>\n",
       "      <td>1.000000</td>\n",
       "      <td>1.000000</td>\n",
       "    </tr>\n",
       "    <tr>\n",
       "      <th>2</th>\n",
       "      <td>DecisionTreeClassifier(max_depth=4)</td>\n",
       "      <td>0.92</td>\n",
       "      <td>1.000</td>\n",
       "      <td>1.000000</td>\n",
       "      <td>0.862069</td>\n",
       "      <td>0.925926</td>\n",
       "      <td>0.931034</td>\n",
       "    </tr>\n",
       "    <tr>\n",
       "      <th>3</th>\n",
       "      <td>SVC(C=1, gamma=1)</td>\n",
       "      <td>1.00</td>\n",
       "      <td>0.990</td>\n",
       "      <td>1.000000</td>\n",
       "      <td>1.000000</td>\n",
       "      <td>1.000000</td>\n",
       "      <td>1.000000</td>\n",
       "    </tr>\n",
       "    <tr>\n",
       "      <th>4</th>\n",
       "      <td>MLPClassifier(alpha=0.05, hidden_layer_sizes=(...</td>\n",
       "      <td>0.88</td>\n",
       "      <td>0.960</td>\n",
       "      <td>0.960000</td>\n",
       "      <td>0.827586</td>\n",
       "      <td>0.888889</td>\n",
       "      <td>0.889984</td>\n",
       "    </tr>\n",
       "    <tr>\n",
       "      <th>5</th>\n",
       "      <td>(DecisionTreeClassifier(max_depth=4, max_featu...</td>\n",
       "      <td>1.00</td>\n",
       "      <td>0.995</td>\n",
       "      <td>1.000000</td>\n",
       "      <td>1.000000</td>\n",
       "      <td>1.000000</td>\n",
       "      <td>1.000000</td>\n",
       "    </tr>\n",
       "    <tr>\n",
       "      <th>6</th>\n",
       "      <td>([DecisionTreeRegressor(criterion='friedman_ms...</td>\n",
       "      <td>1.00</td>\n",
       "      <td>1.000</td>\n",
       "      <td>1.000000</td>\n",
       "      <td>1.000000</td>\n",
       "      <td>1.000000</td>\n",
       "      <td>1.000000</td>\n",
       "    </tr>\n",
       "  </tbody>\n",
       "</table>\n",
       "</div>"
      ],
      "text/plain": [
       "                                               Model  Accuracy  \\\n",
       "0  LogisticRegression(C=0.18420699693267145, rand...      0.50   \n",
       "1                KNeighborsClassifier(n_neighbors=1)      1.00   \n",
       "2                DecisionTreeClassifier(max_depth=4)      0.92   \n",
       "3                                  SVC(C=1, gamma=1)      1.00   \n",
       "4  MLPClassifier(alpha=0.05, hidden_layer_sizes=(...      0.88   \n",
       "5  (DecisionTreeClassifier(max_depth=4, max_featu...      1.00   \n",
       "6  ([DecisionTreeRegressor(criterion='friedman_ms...      1.00   \n",
       "\n",
       "   Cross Val Accuracy  Precision    Recall  F1 Score       ROC  \n",
       "0               0.600   0.566667  0.586207  0.576271  0.483580  \n",
       "1               0.985   1.000000  1.000000  1.000000  1.000000  \n",
       "2               1.000   1.000000  0.862069  0.925926  0.931034  \n",
       "3               0.990   1.000000  1.000000  1.000000  1.000000  \n",
       "4               0.960   0.960000  0.827586  0.888889  0.889984  \n",
       "5               0.995   1.000000  1.000000  1.000000  1.000000  \n",
       "6               1.000   1.000000  1.000000  1.000000  1.000000  "
      ]
     },
     "execution_count": 50,
     "metadata": {},
     "output_type": "execute_result"
    }
   ],
   "source": [
    "results.reset_index(drop=True)"
   ]
  },
  {
   "cell_type": "markdown",
   "id": "a84df59c",
   "metadata": {},
   "source": [
    "Based on the results,**KNN, SVM, Random Forest and Gradient Boosting** models has the highest Accuracy (100%) on this dataset, in other words, they have separated positive and negative examples perfectly.\n",
    "The logistic regression has the poorest prediction of classes with 50 percent of failed predition."
   ]
  }
 ],
 "metadata": {
  "kernelspec": {
   "display_name": "Python 3 (ipykernel)",
   "language": "python",
   "name": "python3"
  },
  "language_info": {
   "codemirror_mode": {
    "name": "ipython",
    "version": 3
   },
   "file_extension": ".py",
   "mimetype": "text/x-python",
   "name": "python",
   "nbconvert_exporter": "python",
   "pygments_lexer": "ipython3",
   "version": "3.9.12"
  }
 },
 "nbformat": 4,
 "nbformat_minor": 5
}
